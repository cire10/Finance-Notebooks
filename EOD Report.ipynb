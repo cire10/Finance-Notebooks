{
 "cells": [
  {
   "cell_type": "code",
   "execution_count": null,
   "metadata": {},
   "outputs": [],
   "source": [
    "import settings\n",
    "import helpers\n",
    "\n",
    "# get data packages\n",
    "import quandl\n",
    "import requests\n",
    "\n",
    "# analysis packages\n",
    "import pandas as pd\n",
    "import datetime\n",
    "\n",
    "import plotly.graph_objs as go\n",
    "import plotly\n",
    "\n",
    "import seaborn as sns\n",
    "import matplotlib.pyplot as plt"
   ]
  },
  {
   "cell_type": "code",
   "execution_count": null,
   "metadata": {},
   "outputs": [],
   "source": [
    "# setting plot sizes to be easier on the eyes\n",
    "plt.rcParams['figure.figsize'] = [8, 5]\n",
    "plt.rcParams['figure.dpi'] = 100"
   ]
  },
  {
   "cell_type": "code",
   "execution_count": null,
   "metadata": {},
   "outputs": [],
   "source": [
    "quandl.ApiConfig.api_key = settings.get_quandl_api_key()"
   ]
  },
  {
   "cell_type": "code",
   "execution_count": null,
   "metadata": {},
   "outputs": [],
   "source": [
    "# date range for data\n",
    "e_date = datetime.datetime.today()\n",
    "s_date = e_date - datetime.timedelta(days=365)"
   ]
  },
  {
   "cell_type": "code",
   "execution_count": null,
   "metadata": {},
   "outputs": [],
   "source": [
    "df_ust_rates = quandl.get(\"USTREASURY/YIELD\", start_date = s_date, end_date = e_date)"
   ]
  },
  {
   "cell_type": "code",
   "execution_count": null,
   "metadata": {
    "tags": []
   },
   "outputs": [],
   "source": [
    "df_ust_rates"
   ]
  },
  {
   "cell_type": "code",
   "execution_count": null,
   "metadata": {},
   "outputs": [],
   "source": [
    "# today's rates\n",
    "ax = sns.scatterplot(x = 'variable', y = 'value', data = pd.melt(df_ust_rates.tail(1)))\n",
    "ax.set(xlabel = 'Tenor', ylabel = 'Rate')"
   ]
  },
  {
   "cell_type": "code",
   "execution_count": null,
   "metadata": {},
   "outputs": [],
   "source": [
    "# today's changes\n",
    "s_daily_change = df_ust_rates.iloc[-1] -  df_ust_rates.iloc[-2]\n",
    "sns.barplot(s_daily_change.index, s_daily_change.values, color = 'steelblue')"
   ]
  },
  {
   "cell_type": "code",
   "execution_count": null,
   "metadata": {},
   "outputs": [],
   "source": [
    "# 2 and 10 spread\n",
    "df_ust_rates['SPREAD'] = df_ust_rates['10 YR'] - df_ust_rates['2 YR']"
   ]
  },
  {
   "cell_type": "code",
   "execution_count": null,
   "metadata": {},
   "outputs": [],
   "source": [
    "# one year spread\n",
    "df_ust_rates.reset_index(inplace = True)\n",
    "sns.lineplot(x = 'Date', y = 'SPREAD', data = df_ust_rates)"
   ]
  },
  {
   "cell_type": "code",
   "execution_count": null,
   "metadata": {
    "tags": []
   },
   "outputs": [],
   "source": [
    "# setting date\n",
    "ax = sns.kdeplot(df_ust_rates['SPREAD'])\n",
    "ax.axvline(df_ust_rates.iloc[-1, -1], color='red', label='TODAYLEVEL')"
   ]
  },
  {
   "cell_type": "code",
   "execution_count": null,
   "metadata": {},
   "outputs": [],
   "source": [
    "# post fed's rescue package and corporates buying\n",
    "post_dt = pd.to_datetime('2020-03-23')\n",
    "ax = sns.kdeplot(df_ust_rates[df_ust_rates['Date'] >= post_dt]['SPREAD'])\n",
    "ax.axvline(df_ust_rates.iloc[-1, -1], color='red', label='TODAYLEVEL')"
   ]
  },
  {
   "cell_type": "code",
   "execution_count": null,
   "metadata": {},
   "outputs": [],
   "source": [
    "# HYG etf holdings\n",
    "url_hyg_holdings = 'https://www.ishares.com/us/products/239565/ishares-iboxx-high-yield-corporate-bond-etf/1467271812596.ajax?fileType=csv&fileName=HYG_holdings&dataType=fund'\n",
    "df_hyg = pd.read_csv(url_hyg_holdings, skiprows = 9)"
   ]
  },
  {
   "cell_type": "code",
   "execution_count": null,
   "metadata": {},
   "outputs": [],
   "source": [
    "# LQD etf holdings\n",
    "url_lqd_holdings = 'https://www.ishares.com/us/products/239566/ishares-iboxx-investment-grade-corporate-bond-etf/1467271812596.ajax?fileType=csv&fileName=LQD_holdings&dataType=fund'\n",
    "df_lqd = pd.read_csv(url_lqd_holdings, skiprows = 9)"
   ]
  },
  {
   "cell_type": "code",
   "execution_count": null,
   "metadata": {},
   "outputs": [],
   "source": [
    "d_ishares_sector_mapping = {\n",
    "    'Communications' : 'Communication Services',\n",
    "    'Capital Goods' : 'Industrials',\n",
    "    'Insurance' : 'Financials',\n",
    "    'Consumer Cyclical' : 'Consumer Discretionary',\n",
    "    'Brokerage/Asset Managers/Exchanges' : 'Financials',\n",
    "    'Financial Other' : 'Financials',\n",
    "    'Finance Companies' : 'Financials',\n",
    "    'Banking' : 'Financials',\n",
    "    'Consumer Non-Cyclical' : 'Consumer Staples',\n",
    "    'Technology' : 'Information Technology',\n",
    "    'Basic Industry' : 'Materials',\n",
    "    'Energy' : 'Energy',\n",
    "    'Reits' : 'Real Estate',\n",
    "    'Transportation' : 'Industrials',\n",
    "    'Electric' : 'Energy',\n",
    "    'Industrial Other' : 'Industrials'\n",
    "}\n",
    "\n",
    "# initial processing of HYG and LQD etfs\n",
    "def format_ishares_bond_etfs(df):\n",
    "\n",
    "    # formatting the col names\n",
    "    df.columns = [name if '(%)' not in name else name[:(name.find('(%)') - 1)] for name in df.columns]\n",
    "\n",
    "    # filtering out unnecessary values\n",
    "    df = df[df['Asset Class'] == 'Fixed Income']\n",
    "    df = df[df['YTM'] != '-']\n",
    "    df = df[df['Sector'] != 'Owned No Guarantee']\n",
    "\n",
    "    # applying percentages\n",
    "    l = ['Weight', 'YTM', 'Coupon', 'Real YTM']\n",
    "    for col in l:\n",
    "        df[col] = pd.to_numeric(df[col]) / 100\n",
    "        \n",
    "    # remapping the sectors to be consistent with SPY ETF\n",
    "    df['Sector'] = df['Sector'].map(d_ishares_sector_mapping)\n",
    "    \n",
    "    # years to maturity\n",
    "    # df_hyg['Maturity'] = (pd.to_datetime(df_hyg['Maturity']) - e_date) / datetime.timedelta(days = 365)\n",
    "    return df"
   ]
  },
  {
   "cell_type": "code",
   "execution_count": null,
   "metadata": {},
   "outputs": [],
   "source": [
    "df_hyg = format_ishares_bond_etfs(df_hyg)"
   ]
  },
  {
   "cell_type": "code",
   "execution_count": null,
   "metadata": {},
   "outputs": [],
   "source": [
    "df_lqd = format_ishares_bond_etfs(df_lqd)"
   ]
  },
  {
   "cell_type": "code",
   "execution_count": null,
   "metadata": {},
   "outputs": [],
   "source": [
    "def plot_sector_makeup(df, s_title):\n",
    "    df_sectors = df[['Sector', 'Weight']].groupby('Sector').sum()\n",
    "    plt = go.Figure(go.Pie(labels = df_sectors.index, values = df_sectors['Weight'], title = f'{s_title} Sector Makeup'))\n",
    "    plotly.io.show(plt)"
   ]
  },
  {
   "cell_type": "code",
   "execution_count": null,
   "metadata": {},
   "outputs": [],
   "source": [
    "plot_sector_makeup(df_hyg, 'HYG')"
   ]
  },
  {
   "cell_type": "code",
   "execution_count": null,
   "metadata": {},
   "outputs": [],
   "source": [
    "plot_sector_makeup(df_lqd, 'LQD')"
   ]
  },
  {
   "cell_type": "code",
   "execution_count": null,
   "metadata": {
    "tags": []
   },
   "outputs": [],
   "source": [
    "# weighted real duration\n",
    "# not using maturity as it's challenging to find embedded optionality data for fixed income products\n",
    "def get_weighted_real_duration(df):\n",
    "    weighted_real_duration = (df['Weight'] * df['Real Duration']).sum()\n",
    "    return f' Weighted Real Duration: {weighted_real_duration}'\n",
    "\n",
    "# weighted real YTM\n",
    "def get_weighted_ytm(df):\n",
    "    weighted_ytm = (df['Weight'] * df['Real YTM']).sum()\n",
    "    return f' Weighted YTM: {weighted_ytm}'"
   ]
  },
  {
   "cell_type": "code",
   "execution_count": null,
   "metadata": {
    "tags": []
   },
   "outputs": [],
   "source": [
    "print('HYG' + get_weighted_real_duration(df_hyg))\n",
    "print('HYG' + get_weighted_ytm(df_hyg))"
   ]
  },
  {
   "cell_type": "code",
   "execution_count": null,
   "metadata": {
    "tags": []
   },
   "outputs": [],
   "source": [
    "print('LQD' + get_weighted_real_duration(df_lqd))\n",
    "print('LQD' + get_weighted_ytm(df_lqd))"
   ]
  },
  {
   "cell_type": "code",
   "execution_count": null,
   "metadata": {
    "tags": []
   },
   "outputs": [],
   "source": [
    "# average YTM by sector\n",
    "def get_sector_ytm(df):\n",
    "    return df[['Real YTM', 'Sector']].groupby('Sector').mean()\n",
    "\n",
    "df_hyg_sector_ytm = get_sector_ytm(df_hyg)\n",
    "df_lqd_sector_ytm = get_sector_ytm(df_lqd)"
   ]
  },
  {
   "cell_type": "code",
   "execution_count": null,
   "metadata": {},
   "outputs": [],
   "source": [
    "fig = {\n",
    "    'data': [go.Bar(x = df_hyg_sector_ytm.index, y = df_hyg_sector_ytm['Real YTM'], name = 'HYG YTM'),\n",
    "             go.Bar(x = df_lqd_sector_ytm.index, y = df_lqd_sector_ytm['Real YTM'], name = 'LQD YTM')],\n",
    "    'layout': go.Layout(barmode='overlay', yaxis=dict(tickformat=\".2%\"))\n",
    "}\n",
    "plotly.io.show(fig)"
   ]
  },
  {
   "cell_type": "code",
   "execution_count": null,
   "metadata": {},
   "outputs": [],
   "source": [
    "# relative ytm between LQD and HYG by sector\n",
    "df_sector_ytm_diff = df_lqd_sector_ytm.div(df_hyg_sector_ytm)\n",
    "fig = go.Figure(go.Bar(x = df_sector_ytm_diff.index, y = df_sector_ytm_diff['Real YTM']))\n",
    "plotly.io.show(fig)"
   ]
  },
  {
   "cell_type": "code",
   "execution_count": null,
   "metadata": {},
   "outputs": [],
   "source": [
    "# historical spread levels, and how they change DoD"
   ]
  },
  {
   "cell_type": "code",
   "execution_count": null,
   "metadata": {},
   "outputs": [],
   "source": [
    "url_holdings_weights = 'https://www.ssga.com/us/en/individual/etfs/library-content/products/fund-data/etfs/us/holdings-daily-us-en-spy.xlsx'\n",
    "df_sp_constituents = pd.read_excel(url_holdings_weights, usecols = ['Ticker', 'Weight', 'Sector'], skiprows = 4)"
   ]
  },
  {
   "cell_type": "code",
   "execution_count": null,
   "metadata": {},
   "outputs": [],
   "source": [
    "df_sp_constituents = df_sp_constituents[~df_sp_constituents['Ticker'].str.contains('CASH', na = True)]"
   ]
  },
  {
   "cell_type": "code",
   "execution_count": null,
   "metadata": {},
   "outputs": [],
   "source": [
    "df_sp_constituents['Weight'] = df_sp_constituents['Weight'] / 100"
   ]
  },
  {
   "cell_type": "code",
   "execution_count": null,
   "metadata": {},
   "outputs": [],
   "source": [
    "plot_sector_makeup(df_sp_constituents, 'SP500')"
   ]
  },
  {
   "cell_type": "code",
   "execution_count": null,
   "metadata": {},
   "outputs": [],
   "source": [
    "tickers = df_sp_constituents['Ticker']"
   ]
  },
  {
   "cell_type": "code",
   "execution_count": null,
   "metadata": {
    "tags": []
   },
   "outputs": [],
   "source": [
    "results = helpers.get_eod_equities_data(tickers)"
   ]
  },
  {
   "cell_type": "code",
   "execution_count": null,
   "metadata": {},
   "outputs": [],
   "source": [
    "df_sp = pd.DataFrame.from_dict(results, orient = 'index')"
   ]
  },
  {
   "cell_type": "code",
   "execution_count": null,
   "metadata": {},
   "outputs": [],
   "source": [
    "df_sp.reset_index(inplace = True)\n",
    "df_sp.rename(columns = {'index':'Ticker'}, inplace = True)"
   ]
  },
  {
   "cell_type": "code",
   "execution_count": null,
   "metadata": {},
   "outputs": [],
   "source": [
    "df_sp = df_sp_constituents.merge(df_sp, on = 'Ticker')"
   ]
  },
  {
   "cell_type": "code",
   "execution_count": null,
   "metadata": {},
   "outputs": [],
   "source": [
    "# how much each ticker contribute to the index's move\n",
    "df_sp['WeightedChangePercent'] = df_sp['Weight'] * df_sp['changePercent']"
   ]
  },
  {
   "cell_type": "code",
   "execution_count": null,
   "metadata": {},
   "outputs": [],
   "source": [
    "df_sector_change = df_sp[['Sector', 'WeightedChangePercent']].groupby('Sector').sum()"
   ]
  },
  {
   "cell_type": "code",
   "execution_count": null,
   "metadata": {},
   "outputs": [],
   "source": [
    "sectors = df_sector_change.index"
   ]
  },
  {
   "cell_type": "code",
   "execution_count": null,
   "metadata": {},
   "outputs": [],
   "source": [
    "plt = go.Figure(go.Bar(x = df_sector_change.index, y = df_sector_change['WeightedChangePercent']))\n",
    "plt.update_layout(yaxis=dict(tickformat=\".2%\"))\n",
    "plotly.io.show(plt)"
   ]
  },
  {
   "cell_type": "code",
   "execution_count": null,
   "metadata": {},
   "outputs": [],
   "source": [
    "# average sector volume over 30 day average\n",
    "df_sp['Over30DVolume'] = df_sp['volume'] / df_sp['avgTotalVolume'] - 1\n",
    "df_sector_volume = df_sp[['Sector', 'Over30DVolume']].groupby('Sector').mean()"
   ]
  },
  {
   "cell_type": "code",
   "execution_count": null,
   "metadata": {},
   "outputs": [],
   "source": [
    "plt = go.Figure(go.Bar(x = df_sector_volume.index, y = df_sector_volume['Over30DVolume']))\n",
    "plt.update_layout(yaxis=dict(tickformat=\".2%\"))\n",
    "plotly.io.show(plt)"
   ]
  },
  {
   "cell_type": "code",
   "execution_count": null,
   "metadata": {
    "tags": []
   },
   "outputs": [],
   "source": [
    "# top 10 movers per sector\n",
    "d = {}\n",
    "for sector in sectors:\n",
    "    df_sector = df_sp[df_sp['Sector'] == sector].sort_values(['changePercent'], ascending = False).head(10)\n",
    "    d[sector] = df_sector\n",
    "\n",
    "fig = go.Figure()\n",
    "\n",
    "for sector, df_sector_top10 in d.items():\n",
    "    maxval, minval = df_sector_top10['Weight'].max(), df_sector_top10['Weight'].min()\n",
    "    sizes = [(((weight - minval)/(maxval - minval) + 1) * 100) for weight in df_sector_top10['Weight']]\n",
    "    fig.add_trace(go.Scatter(\n",
    "        x = df_sector_top10['Sector'], \n",
    "        y = df_sector_top10['changePercent'], \n",
    "        text = df_sector_top10['Ticker'],\n",
    "        name = sector,\n",
    "        mode = 'markers',\n",
    "        marker = dict(size = sizes, sizemode = 'area')))\n",
    "\n",
    "fig.update_layout(yaxis=dict(tickformat=\".2%\"))    \n",
    "\n",
    "plotly.io.show(fig)"
   ]
  }
 ],
 "metadata": {
  "kernelspec": {
   "display_name": "Python 3",
   "language": "python",
   "name": "python3"
  },
  "language_info": {
   "codemirror_mode": {
    "name": "ipython",
    "version": 3
   },
   "file_extension": ".py",
   "mimetype": "text/x-python",
   "name": "python",
   "nbconvert_exporter": "python",
   "pygments_lexer": "ipython3",
   "version": "3.7.6"
  }
 },
 "nbformat": 4,
 "nbformat_minor": 4
}